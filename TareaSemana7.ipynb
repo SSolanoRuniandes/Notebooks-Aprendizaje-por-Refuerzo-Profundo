{
  "nbformat": 4,
  "nbformat_minor": 0,
  "metadata": {
    "colab": {
      "provenance": [],
      "authorship_tag": "ABX9TyN1WpX54d3ImysO3EWaKSmF",
      "include_colab_link": true
    },
    "kernelspec": {
      "name": "python3",
      "display_name": "Python 3"
    },
    "language_info": {
      "name": "python"
    }
  },
  "cells": [
    {
      "cell_type": "markdown",
      "metadata": {
        "id": "view-in-github",
        "colab_type": "text"
      },
      "source": [
        "<a href=\"https://colab.research.google.com/github/SSolanoRuniandes/Notebooks-Aprendizaje-por-Refuerzo-Profundo/blob/main/TareaSemana7.ipynb\" target=\"_parent\"><img src=\"https://colab.research.google.com/assets/colab-badge.svg\" alt=\"Open In Colab\"/></a>"
      ]
    },
    {
      "cell_type": "code",
      "execution_count": null,
      "metadata": {
        "id": "yPZTgE34P5Q_"
      },
      "outputs": [],
      "source": [
        "![MAIA banner](https://raw.githubusercontent.com/MAIA4361-Aprendizaje-refuerzo-profundo/Notebooks_Tareas/main/Images/Aprendizaje_refuerzo_profundo_Banner_V1.png)\n",
        "\n",
        "# <h1><center>Tarea Tutorial - Semana 7 <a href=\"https://colab.research.google.com/github/SSolanoRuniandes/Notebooks-Aprendizaje-por-Refuerzo-Profundo/blob/main/TareaSemana7.ipynb\"><img src=\"https://colab.research.google.com/assets/colab-badge.svg\" width=\"140\" align=\"center\"/></a></center></h1>\n",
        "\n",
        "<center><h1>DDPG y TD3</h1></center>\n",
        "\n",
        "Este tutorial sigue con el estudio de algoritmos de gradiente de política. Concretamente, se revisarán 2 algoritmos: Deep Deterministic Policy Gradient (DDPG) y Twin Delayed Deep Deterministic Policy Gradient (TD3). Se utilizará la implementación de ambos algoritmos encontrada dentro de <a href=\"https://stable-baselines3.readthedocs.io/en/master/index.html\">Stable Baselines3</a>, y los usaremos para resolver problemas de robótica basados en el entorno de simulación MuJoCo: <a href=\"https://gymnasium.farama.org/v0.28.1/environments/mujoco/reacher/\">Reacher</a>, <a href=\"https://gymnasium.farama.org/environments/mujoco/ant/\">Ant</a> y <a href=\"https://gymnasium.farama.org/v0.28.1/environments/mujoco/half_cheetah/\">Half Cheetah</a>. Este notebook tutorial se divide en las siguientes secciones:\n",
        "\n",
        "\n",
        "# Tabla de Contenidos\n",
        "1. [Objetivos de Aprendizaje](#scrollTo=Objetivos_de_Aprendizaje)\n",
        "2. [Marco Teórico](#scrollTo=Marco_Te_rico)\n",
        "3. [Instalación de Librerías](#scrollTo=Instalaci_n_de_Librer_as)\n",
        "4. [Familiarización con los Entornos de Gym](#scrollTo=Familiarizaci_n_con_los_Entornos_de_Gym)\n",
        "5. [Entrenamiento de agentes DDPG y TD3 para Reacher](#scrollTo=Entrenamiento_de_agentes_DDPG_y_TD3_para_Reacher)\n",
        "6. [Entrenamiento de agentes DDPG y TD3 para Ant](#scrollTo=Entrenamiento_de_agentes_DDPG_y_TD3_para_Ant)\n",
        "7. [Entrenamiento de agentes DDPG y TD3 para Half Cheetah](#scrollTo=Entrenamiento_de_agentes_DDPG_y_TD3_para_Half_Cheetah)\n",
        "8. [Reflexiones Finales](#scrollTo=Reflexiones_Finales)\n",
        "9. [Referencias](#scrollTo=Referencias)"
      ]
    }
  ]
}