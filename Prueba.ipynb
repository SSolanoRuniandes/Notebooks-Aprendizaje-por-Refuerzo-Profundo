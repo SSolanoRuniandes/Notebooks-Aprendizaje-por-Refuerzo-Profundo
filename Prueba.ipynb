{
  "nbformat": 4,
  "nbformat_minor": 0,
  "metadata": {
    "colab": {
      "provenance": []
    },
    "kernelspec": {
      "name": "python3",
      "display_name": "Python 3"
    },
    "language_info": {
      "name": "python"
    }
  },
  "cells": [
    {
      "cell_type": "markdown",
      "source": [
        "![MAIA banner](https://uniandes.sharepoint.com/:i:/r/sites/maiavirtual/Aprendizaje%20por%20refuerzo%20profundo/3_Desarrollo/s1/tareas_programacion/banner.png?csf=1&web=1&e=6uLCrY)\n",
        "\n"
      ],
      "metadata": {
        "id": "oblzmhF6SCZW"
      }
    },
    {
      "cell_type": "code",
      "execution_count": 1,
      "metadata": {
        "colab": {
          "base_uri": "https://localhost:8080/"
        },
        "id": "0sR-qt6QRa4z",
        "outputId": "41f29deb-4550-4103-a24a-485147c37a18"
      },
      "outputs": [
        {
          "output_type": "stream",
          "name": "stdout",
          "text": [
            "Hola\n"
          ]
        }
      ],
      "source": [
        "print(\"Hola\")"
      ]
    }
  ]
}