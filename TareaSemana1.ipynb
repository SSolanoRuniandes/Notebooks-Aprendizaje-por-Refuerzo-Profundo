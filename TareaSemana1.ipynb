{
  "nbformat": 4,
  "nbformat_minor": 0,
  "metadata": {
    "colab": {
      "provenance": [],
      "authorship_tag": "ABX9TyPBZTfuqy7GIVNDKHc5E3XY",
      "include_colab_link": true
    },
    "kernelspec": {
      "name": "python3",
      "display_name": "Python 3"
    },
    "language_info": {
      "name": "python"
    }
  },
  "cells": [
    {
      "cell_type": "markdown",
      "metadata": {
        "id": "view-in-github",
        "colab_type": "text"
      },
      "source": [
        "<a href=\"https://colab.research.google.com/github/SSolanoRuniandes/Notebooks-Aprendizaje-por-Refuerzo-Profundo/blob/main/TareaSemana1.ipynb\" target=\"_parent\"><img src=\"https://colab.research.google.com/assets/colab-badge.svg\" alt=\"Open In Colab\"/></a>"
      ]
    },
    {
      "cell_type": "markdown",
      "source": [
        "![MAIA banner](https://raw.githubusercontent.com/SSolanoRuniandes/Notebooks-Aprendizaje-por-Refuerzo-Profundo/main/Images/banner.png)\n",
        "\n",
        "# <h1><center>Tarea Tutorial - Semana 1 <a href=\"https://colab.research.google.com/github/SSolanoRuniandes/Notebooks-Aprendizaje-por-Refuerzo-Profundo/blob/main/PruebaBanner.ipynb\"><img src=\"https://colab.research.google.com/assets/colab-badge.svg\" width=\"140\" align=\"center\"/></a></center></h1>\n",
        "\n",
        "<center><h1>Aproximación de Funciones</h1></center>\n",
        "\n",
        "En este tutorial aprenderás acerca de las ventajas que tiene utilizar aproximación de funciones en problemas de aprendizaje por refuerzo profundo. Ilustraremos el proceso con el problema de <a href=\"https://gymnasium.farama.org/environments/classic_control/cart_pole/\">Cart Pole</a>, incluido en las librerías de Gym, e implementaremos redes nuronales con el framework <a href=\"https://github.com/inarikami/keras-rl2/blob/master/examples/dqn_cartpole.py\">keras-rl2</a>, que ya incluye varios algoritmos de aprendizaje por refuerzo con tensorflow. El objetivo principal será comparar el desempeño de distintos algoritmos en su versión tabular y su versión con redes neuronales. Este notebook tutorial se divide en las siguientes secciones:\n",
        "\n",
        "<h1 id=\"indice\">Tabla de Contenidos</h1>\n",
        "<ul>\n",
        "  <li><a href=\"#objetivos-de-aprendizaje\">1. Objetivos de Aprendizaje</a></li>\n",
        "  <li><a href=\"#marco-teorico\">2. Marco Teórico</a></li>\n",
        "  <li><a href=\"#instalacion-de-librerias\">3. Instalación de Librerías</a></li>\n",
        "  <li><a href=\"#familiarizacion-con-gym\">4. Familiarización con el Entorno de Gym</a></li>\n",
        "  <li><a href=\"#metodos-tabulares\">5. Métodos Tabulares</a></li>\n",
        "  <li><a href=\"#metodos-redes-neuronales\">6. Métodos con Redes Neuronales</a></li>\n",
        "  <li><a href=\"#comparacion\">7. Comparación</a></li>\n",
        "  <li><a href=\"#conclusiones\">8. Conclusiones</a></li>\n",
        "</ul>\n"
      ],
      "metadata": {
        "id": "oblzmhF6SCZW"
      }
    },
    {
      "cell_type": "code",
      "source": [],
      "metadata": {
        "id": "EKWiZWC6NSjt"
      },
      "execution_count": null,
      "outputs": []
    },
    {
      "cell_type": "code",
      "source": [],
      "metadata": {
        "id": "kK_7ZzH2NSpI"
      },
      "execution_count": null,
      "outputs": []
    },
    {
      "cell_type": "code",
      "source": [],
      "metadata": {
        "id": "XxX9XO9VNSr7"
      },
      "execution_count": null,
      "outputs": []
    },
    {
      "cell_type": "code",
      "source": [],
      "metadata": {
        "id": "GMsQGkyYNSus"
      },
      "execution_count": null,
      "outputs": []
    },
    {
      "cell_type": "code",
      "source": [],
      "metadata": {
        "id": "o7KRV9jsNSxW"
      },
      "execution_count": null,
      "outputs": []
    },
    {
      "cell_type": "code",
      "source": [],
      "metadata": {
        "id": "ndeHluEtNS0B"
      },
      "execution_count": null,
      "outputs": []
    },
    {
      "cell_type": "code",
      "source": [],
      "metadata": {
        "id": "IHlICGcvNS2i"
      },
      "execution_count": null,
      "outputs": []
    },
    {
      "cell_type": "code",
      "source": [],
      "metadata": {
        "id": "snvxyOySNS5I"
      },
      "execution_count": null,
      "outputs": []
    },
    {
      "cell_type": "code",
      "source": [],
      "metadata": {
        "id": "jbNmfu7nNS7m"
      },
      "execution_count": null,
      "outputs": []
    },
    {
      "cell_type": "markdown",
      "source": [
        "<h2 id=\"objetivos-de-aprendizaje\">1. Objetivos de Aprendizaje</h2>\n",
        "<p>Contenido de la sección 1.</p>\n",
        "\n"
      ],
      "metadata": {
        "id": "k8OPdsC0AxgP"
      }
    },
    {
      "cell_type": "code",
      "source": [],
      "metadata": {
        "id": "YFMoZEaCFqK8"
      },
      "execution_count": null,
      "outputs": []
    },
    {
      "cell_type": "markdown",
      "source": [
        "<h2 id=\"marco-teorico\">2. Marco Teórico</h2>\n",
        "<p>Contenido de la sección 2.</p>\n"
      ],
      "metadata": {
        "id": "8SYOat1dA2VN"
      }
    },
    {
      "cell_type": "code",
      "source": [],
      "metadata": {
        "id": "auYuisEeA2iR"
      },
      "execution_count": null,
      "outputs": []
    },
    {
      "cell_type": "markdown",
      "source": [
        "\n",
        "<h2 id=\"instalacion-de-librerias\">3. Instalación de Librerías</h2>\n",
        "<p>Contenido de la sección 3.</p>\n",
        "\n",
        "<h2 id=\"familiarizacion-con-gym\">4. Familiarización con el Entorno de Gym</h2>\n",
        "<p>Contenido de la sección 4.</p>\n",
        "\n",
        "<h2 id=\"metodos-tabulares\">5. Métodos Tabulares</h2>\n",
        "<p>Contenido de la sección 5.</p>\n",
        "\n",
        "<h2 id=\"metodos-redes-neuronales\">6. Métodos con Redes Neuronales</h2>\n",
        "<p>Contenido de la sección 6.</p>\n",
        "\n",
        "<h2 id=\"comparacion\">7. Comparación</h2>\n",
        "<p>Contenido de la sección 7.</p>\n",
        "\n",
        "<h2 id=\"conclusiones\">8. Conclusiones</h2>\n",
        "<p>Contenido de la sección 8.</p>"
      ],
      "metadata": {
        "id": "8NJaGlJ1OV-u"
      }
    }
  ]
}