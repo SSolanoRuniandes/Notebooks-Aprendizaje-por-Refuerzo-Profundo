{
  "nbformat": 4,
  "nbformat_minor": 0,
  "metadata": {
    "colab": {
      "provenance": [],
      "authorship_tag": "ABX9TyMOfkcHONU3jPlP+nVdD6nE",
      "include_colab_link": true
    },
    "kernelspec": {
      "name": "python3",
      "display_name": "Python 3"
    },
    "language_info": {
      "name": "python"
    }
  },
  "cells": [
    {
      "cell_type": "markdown",
      "metadata": {
        "id": "view-in-github",
        "colab_type": "text"
      },
      "source": [
        "<a href=\"https://colab.research.google.com/github/SSolanoRuniandes/Notebooks-Aprendizaje-por-Refuerzo-Profundo/blob/main/TareaSemana1.ipynb\" target=\"_parent\"><img src=\"https://colab.research.google.com/assets/colab-badge.svg\" alt=\"Open In Colab\"/></a>"
      ]
    },
    {
      "cell_type": "markdown",
      "source": [
        "![MAIA banner](https://raw.githubusercontent.com/SSolanoRuniandes/Notebooks-Aprendizaje-por-Refuerzo-Profundo/main/Images/banner.png)\n",
        "\n",
        "# <h1><center>Tarea Tutorial - Semana 1 <a href=\"https://colab.research.google.com/github/SSolanoRuniandes/Notebooks-Aprendizaje-por-Refuerzo-Profundo/blob/main/PruebaBanner.ipynb\"><img src=\"https://colab.research.google.com/assets/colab-badge.svg\" width=\"140\" align=\"center\"/></a></center></h1>\n",
        "\n",
        "<center><h1>Aproximación de Funciones</h1></center>\n",
        "\n",
        "En este tutorial aprenderás acerca de las ventajas que tiene utilizar aproximación de funciones en problemas de aprendizaje por refuerzo profundo. Ilustraremos el proceso con el problema de <a href=\"https://gymnasium.farama.org/environments/classic_control/cart_pole/\">Cart Pole</a>, incluido en las librerías de Gym, e implementaremos redes nuronales con el framework <a href=\"https://github.com/inarikami/keras-rl2/blob/master/examples/dqn_cartpole.py\">keras-rl2</a>, que ya incluye varios algoritmos de aprendizaje por refuerzo con tensorflow. El objetivo principal será comparar el desempeño de distintos algoritmos en su versión tabular y su versión con redes neuronales. Este notebook tutorial se divide en las siguientes secciones:\n",
        "\n",
        "# Tabla de Contenidos\n",
        "1. [Objetivos de Aprendizaje](#objetivos-de-aprendizaje)  \n",
        "2. [Marco Teórico](#marco-teorico)  \n",
        "3. [Instalación de Librerías](#instalacion-de-librerias)  \n",
        "4. [Familiarización con el Entorno de Gym](#familiarizacion-con-el-entorno-de-gym)  \n",
        "5. [Métodos Tabulares](#metodos-tabulares)  \n",
        "6. [Métodos con Redes Neuronales](#metodos-con-redes-neuronales)  \n",
        "7. [Comparación](#comparacion)  \n",
        "8. [Conclusiones](#conclusiones)  "
      ],
      "metadata": {
        "id": "oblzmhF6SCZW"
      }
    },
    {
      "cell_type": "code",
      "source": [],
      "metadata": {
        "id": "EKWiZWC6NSjt"
      },
      "execution_count": null,
      "outputs": []
    },
    {
      "cell_type": "code",
      "source": [],
      "metadata": {
        "id": "kK_7ZzH2NSpI"
      },
      "execution_count": null,
      "outputs": []
    },
    {
      "cell_type": "code",
      "source": [],
      "metadata": {
        "id": "XxX9XO9VNSr7"
      },
      "execution_count": null,
      "outputs": []
    },
    {
      "cell_type": "code",
      "source": [],
      "metadata": {
        "id": "GMsQGkyYNSus"
      },
      "execution_count": null,
      "outputs": []
    },
    {
      "cell_type": "code",
      "source": [],
      "metadata": {
        "id": "o7KRV9jsNSxW"
      },
      "execution_count": null,
      "outputs": []
    },
    {
      "cell_type": "code",
      "source": [],
      "metadata": {
        "id": "ndeHluEtNS0B"
      },
      "execution_count": null,
      "outputs": []
    },
    {
      "cell_type": "code",
      "source": [],
      "metadata": {
        "id": "IHlICGcvNS2i"
      },
      "execution_count": null,
      "outputs": []
    },
    {
      "cell_type": "code",
      "source": [],
      "metadata": {
        "id": "snvxyOySNS5I"
      },
      "execution_count": null,
      "outputs": []
    },
    {
      "cell_type": "code",
      "source": [],
      "metadata": {
        "id": "jbNmfu7nNS7m"
      },
      "execution_count": null,
      "outputs": []
    },
    {
      "cell_type": "markdown",
      "source": [
        "## Objetivos de Aprendizaje  \n",
        "Contenido de la sección 1.  \n",
        "\n",
        "## Marco Teórico  \n",
        "Contenido de la sección 2.  \n",
        "\n",
        "## Instalación de Librerías  \n",
        "Contenido de la sección 3.  \n",
        "\n",
        "## Familiarización con el Entorno de Gym  \n",
        "Contenido de la sección 4.  \n",
        "\n",
        "## Métodos Tabulares  \n",
        "Contenido de la sección 5.  \n",
        "\n",
        "## Métodos con Redes Neuronales  \n",
        "Contenido de la sección 6.  \n",
        "\n",
        "## Comparación  \n",
        "Contenido de la sección 7.  \n",
        "\n",
        "## Conclusiones  \n",
        "Contenido de la sección 8.  \n",
        "\n"
      ],
      "metadata": {
        "id": "k8OPdsC0AxgP"
      }
    },
    {
      "cell_type": "code",
      "source": [],
      "metadata": {
        "id": "YFMoZEaCFqK8"
      },
      "execution_count": null,
      "outputs": []
    }
  ]
}